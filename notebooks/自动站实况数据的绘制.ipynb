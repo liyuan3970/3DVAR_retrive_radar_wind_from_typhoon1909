{
 "cells": [
  {
   "cell_type": "markdown",
   "metadata": {},
   "source": [
    "# 自动站降水的绘制"
   ]
  },
  {
   "cell_type": "code",
   "execution_count": 1,
   "metadata": {},
   "outputs": [
    {
     "name": "stderr",
     "output_type": "stream",
     "text": [
      "/home/liyuan3970/anaconda3/lib/python3.7/site-packages/ipykernel_launcher.py:1: DeprecationWarning: Using or importing the ABCs from 'collections' instead of from 'collections.abc' is deprecated, and in 3.8 it will stop working\n",
      "  \"\"\"Entry point for launching an IPython kernel.\n"
     ]
    },
    {
     "name": "stdout",
     "output_type": "stream",
     "text": [
      "(11, 1)\n",
      "[(56,), (86,), (209,), (195,), (291,), (172,), (253,), (186,), (144,), (62,), (10,)]\n"
     ]
    }
   ],
   "source": [
    "import pymssql \n",
    "import pandas as pd\n",
    "server = \"172.21.158.201\"    # 连接服务器地址\n",
    "user = \"down\"# 连接帐号\n",
    "password = \"downx\"# 连接密码\n",
    "conn = pymssql.connect(server, user, password, \"ZJSZDZDB\")  #获取连接\n",
    "\n",
    "cursor = conn.cursor() # 获取光标\n",
    "\n",
    "cursor.execute('USE ZJSZDZDB' )\n",
    "\n",
    "sql  = \"select RR from TAB_Aws2019 where (IIiii='58667' and tTime between '2019-08-09 22:00' and '2019-08-10 08:00') order by tTime\"\n",
    "cursor.execute(sql) \n",
    "#select IIiii ,MAX(fFy*1000+dFy) AS Expr1 FROM Tab_Aws WHERE (IIiii IN('58665','58559','58568','58652')) AND (tTime BETWEEN '2020-7-14 2:00:01' AND '2020-7-14 05:00:00') GROUP BY IIiii\n",
    "#sql2 = \"GO\"\n",
    "#cursor.execute(sql2)\n",
    "row = cursor.fetchall()\n",
    "print(pd.DataFrame(list(row)).shape)\n",
    "print(row)\n",
    "cursor.close()  # 关闭游标\n",
    "conn.close()  # 关闭连接"
   ]
  },
  {
   "cell_type": "markdown",
   "metadata": {},
   "source": [
    "# Pandas的分组聚合"
   ]
  },
  {
   "cell_type": "code",
   "execution_count": 1,
   "metadata": {},
   "outputs": [
    {
     "name": "stdout",
     "output_type": "stream",
     "text": [
      "  key1 key2     data1     data2\n",
      "0    a  one -0.475953 -2.768024\n",
      "1    a  two  0.018684  0.657692\n",
      "2    b  one  1.117083 -0.967863\n",
      "3    b  two -1.619283 -0.225593\n",
      "4    a  one  1.322983  1.074086\n"
     ]
    },
    {
     "data": {
      "text/html": [
       "<div>\n",
       "<style scoped>\n",
       "    .dataframe tbody tr th:only-of-type {\n",
       "        vertical-align: middle;\n",
       "    }\n",
       "\n",
       "    .dataframe tbody tr th {\n",
       "        vertical-align: top;\n",
       "    }\n",
       "\n",
       "    .dataframe thead th {\n",
       "        text-align: right;\n",
       "    }\n",
       "</style>\n",
       "<table border=\"1\" class=\"dataframe\">\n",
       "  <thead>\n",
       "    <tr style=\"text-align: right;\">\n",
       "      <th></th>\n",
       "      <th>data1</th>\n",
       "      <th>data2</th>\n",
       "    </tr>\n",
       "    <tr>\n",
       "      <th>key1</th>\n",
       "      <th></th>\n",
       "      <th></th>\n",
       "    </tr>\n",
       "  </thead>\n",
       "  <tbody>\n",
       "    <tr>\n",
       "      <th>a</th>\n",
       "      <td>0.865714</td>\n",
       "      <td>-1.036246</td>\n",
       "    </tr>\n",
       "    <tr>\n",
       "      <th>b</th>\n",
       "      <td>-0.502200</td>\n",
       "      <td>-1.193457</td>\n",
       "    </tr>\n",
       "  </tbody>\n",
       "</table>\n",
       "</div>"
      ],
      "text/plain": [
       "         data1     data2\n",
       "key1                    \n",
       "a     0.865714 -1.036246\n",
       "b    -0.502200 -1.193457"
      ]
     },
     "execution_count": 1,
     "metadata": {},
     "output_type": "execute_result"
    }
   ],
   "source": [
    "import pandas as pd\n",
    "import numpy as np\n",
    "df = pd.DataFrame({'key1':['a', 'a', 'b', 'b', 'a'],\n",
    "     'key2':['one', 'two', 'one', 'two', 'one'],\n",
    "     'data1':np.random.randn(5),\n",
    "     'data2':np.random.randn(5)})\n",
    "print(df)\n",
    "\n",
    "\n",
    "grouped = df.groupby(df['key1'])\n",
    "\n",
    "grouped.sum()"
   ]
  },
  {
   "cell_type": "code",
   "execution_count": 3,
   "metadata": {},
   "outputs": [
    {
     "data": {
      "text/html": [
       "<div>\n",
       "<style scoped>\n",
       "    .dataframe tbody tr th:only-of-type {\n",
       "        vertical-align: middle;\n",
       "    }\n",
       "\n",
       "    .dataframe tbody tr th {\n",
       "        vertical-align: top;\n",
       "    }\n",
       "\n",
       "    .dataframe thead th {\n",
       "        text-align: right;\n",
       "    }\n",
       "</style>\n",
       "<table border=\"1\" class=\"dataframe\">\n",
       "  <thead>\n",
       "    <tr style=\"text-align: right;\">\n",
       "      <th></th>\n",
       "      <th>data1</th>\n",
       "      <th>data2</th>\n",
       "    </tr>\n",
       "    <tr>\n",
       "      <th>key1</th>\n",
       "      <th></th>\n",
       "      <th></th>\n",
       "    </tr>\n",
       "  </thead>\n",
       "  <tbody>\n",
       "    <tr>\n",
       "      <th>a</th>\n",
       "      <td>0.288571</td>\n",
       "      <td>-0.345415</td>\n",
       "    </tr>\n",
       "    <tr>\n",
       "      <th>b</th>\n",
       "      <td>-0.251100</td>\n",
       "      <td>-0.596728</td>\n",
       "    </tr>\n",
       "  </tbody>\n",
       "</table>\n",
       "</div>"
      ],
      "text/plain": [
       "         data1     data2\n",
       "key1                    \n",
       "a     0.288571 -0.345415\n",
       "b    -0.251100 -0.596728"
      ]
     },
     "execution_count": 3,
     "metadata": {},
     "output_type": "execute_result"
    }
   ],
   "source": [
    "grouped = df.groupby(df['key1'])\n",
    "grouped.mean()"
   ]
  },
  {
   "cell_type": "code",
   "execution_count": null,
   "metadata": {},
   "outputs": [],
   "source": []
  },
  {
   "cell_type": "code",
   "execution_count": null,
   "metadata": {},
   "outputs": [],
   "source": [
    "\"select b.lat,b.lon,b.IIiii a.RR from TAB_Aws2019 as a left join TAB_StationInfo as b on a.IIiii=b.IIiii where (b.IIiii in (select IIiii from TAB_StationInfo where(Province = '浙江'))tTime between '2019-08-09 23:00' and '2019-08-10 06:00'))\""
   ]
  },
  {
   "cell_type": "markdown",
   "metadata": {},
   "source": [
    "# 国家站"
   ]
  },
  {
   "cell_type": "code",
   "execution_count": 1,
   "metadata": {},
   "outputs": [
    {
     "name": "stderr",
     "output_type": "stream",
     "text": [
      "/home/liyuan3970/anaconda3/lib/python3.7/site-packages/ipykernel_launcher.py:1: DeprecationWarning: Using or importing the ABCs from 'collections' instead of from 'collections.abc' is deprecated, and in 3.8 it will stop working\n",
      "  \"\"\"Entry point for launching an IPython kernel.\n"
     ]
    },
    {
     "name": "stdout",
     "output_type": "stream",
     "text": [
      "(714, 4)\n"
     ]
    }
   ],
   "source": [
    "import pymssql \n",
    "import pandas as pd\n",
    "server = \"172.21.158.201\"    # 连接服务器地址\n",
    "user = \"down\"# 连接帐号\n",
    "password = \"downx\"# 连接密码\n",
    "conn = pymssql.connect(server, user, password, \"ZJSZDZDB\")  #获取连接\n",
    "\n",
    "cursor = conn.cursor() # 获取光标\n",
    "\n",
    "cursor.execute('USE ZJSZDZDB' )\n",
    "\n",
    "sql  = \"select lat,b.lon,b.IIiii,RR from TAB_Aws2019 as a left join TAB_StationInfo as b on a.IIiii=b.IIiii where (b.IIiii in (select IIiii from TAB_StationInfo where(Province = '浙江') and tTime between '2019-08-09 23:01' and '2019-08-10 06:01'))\"\n",
    "cursor.execute(sql) \n",
    "#select IIiii ,MAX(fFy*1000+dFy) AS Expr1 FROM Tab_Aws WHERE (IIiii IN('58665','58559','58568','58652')) AND (tTime BETWEEN '2020-7-14 2:00:01' AND '2020-7-14 05:00:00') GROUP BY IIiii\n",
    "#sql2 = \"GO\"\n",
    "#cursor.execute(sql2)\n",
    "row = cursor.fetchall()\n",
    "print(pd.DataFrame(list(row)).shape)\n",
    "\n",
    "cursor.close()  # 关闭游标\n",
    "conn.close()  # 关闭连接"
   ]
  },
  {
   "cell_type": "code",
   "execution_count": 2,
   "metadata": {},
   "outputs": [],
   "source": [
    "clm=[\"lat\",\"lon\",\"IIiii\",\"RR\"]\n",
    "df = pd.DataFrame(row,columns=clm)\n",
    "df.to_excel('nation.xlsx')"
   ]
  },
  {
   "cell_type": "code",
   "execution_count": 3,
   "metadata": {},
   "outputs": [],
   "source": [
    "grouped = df.groupby(df['IIiii'])\n",
    "\n",
    "data = grouped.mean()\n"
   ]
  },
  {
   "cell_type": "code",
   "execution_count": 58,
   "metadata": {},
   "outputs": [],
   "source": [
    "data.to_excel('my.xlsx')"
   ]
  },
  {
   "cell_type": "code",
   "execution_count": 4,
   "metadata": {},
   "outputs": [],
   "source": [
    "data.to_csv('RR_nation.csv')"
   ]
  },
  {
   "cell_type": "markdown",
   "metadata": {},
   "source": [
    "# 区域产"
   ]
  },
  {
   "cell_type": "code",
   "execution_count": 5,
   "metadata": {},
   "outputs": [
    {
     "name": "stdout",
     "output_type": "stream",
     "text": [
      "(20509, 4)\n"
     ]
    }
   ],
   "source": [
    "import pymssql \n",
    "import pandas as pd\n",
    "server = \"172.21.158.201\"    # 连接服务器地址\n",
    "user = \"down\"# 连接帐号\n",
    "password = \"downx\"# 连接密码\n",
    "conn = pymssql.connect(server, user, password, \"ZJSZDZDB\")  #获取连接\n",
    "\n",
    "cursor = conn.cursor() # 获取光标\n",
    "\n",
    "cursor.execute('USE ZJSZDZDB' )\n",
    "\n",
    "sql  = \"select lat,b.lon,b.IIiii,RR from TAB_Mws2019 as a left join TAB_StationInfo as b on a.IIiii=b.IIiii where (b.IIiii in (select IIiii from TAB_StationInfo where(Province = '浙江') and tTime between '2019-08-09 23:01' and '2019-08-10 06:01'))\"\n",
    "cursor.execute(sql) \n",
    "#select IIiii ,MAX(fFy*1000+dFy) AS Expr1 FROM Tab_Aws WHERE (IIiii IN('58665','58559','58568','58652')) AND (tTime BETWEEN '2020-7-14 2:00:01' AND '2020-7-14 05:00:00') GROUP BY IIiii\n",
    "#sql2 = \"GO\"\n",
    "#cursor.execute(sql2)\n",
    "row = cursor.fetchall()\n",
    "print(pd.DataFrame(list(row)).shape)\n",
    "\n",
    "cursor.close()  # 关闭游标\n",
    "conn.close()  # 关闭连接\n",
    "clm=[\"lat\",\"lon\",\"IIiii\",\"RR\"]\n",
    "df = pd.DataFrame(row,columns=clm)\n",
    "grouped = df.groupby(df['IIiii'])\n",
    "\n",
    "data = grouped.mean()\n",
    "data.to_csv('RR_region_right.csv')"
   ]
  },
  {
   "cell_type": "code",
   "execution_count": 3,
   "metadata": {},
   "outputs": [
    {
     "name": "stdout",
     "output_type": "stream",
     "text": [
      "(20509, 5)\n",
      "      Height        lat         lon  IIiii  RR\n",
      "0      01507  28.450000  119.483333  K0101  67\n",
      "1      02060  27.983333  119.633333  K0102  65\n",
      "2      00200  30.266667  120.166667  K1001  23\n",
      "3         70  30.366667  120.133333  K1002  16\n",
      "4      00240  30.300000  120.333333  K1003  18\n",
      "...      ...        ...         ...    ...  ..\n",
      "20504    283  30.316667  122.016667  K9727   0\n",
      "20505    370  30.216667  121.883333  K9728   0\n",
      "20506    330  29.720000  122.150000  K9735  51\n",
      "20507    640  30.770000  122.650000  K9739   0\n",
      "20508    300  30.330000  121.980000  K9740   2\n",
      "\n",
      "[20509 rows x 5 columns]\n"
     ]
    }
   ],
   "source": [
    "import pymssql \n",
    "import pandas as pd\n",
    "server = \"172.21.158.201\"    # 连接服务器地址\n",
    "user = \"down\"# 连接帐号\n",
    "password = \"downx\"# 连接密码\n",
    "conn = pymssql.connect(server, user, password, \"ZJSZDZDB\")  #获取连接\n",
    "\n",
    "cursor = conn.cursor() # 获取光标\n",
    "\n",
    "cursor.execute('USE ZJSZDZDB' )\n",
    "\n",
    "sql  = \"select b.Height,lat,b.lon,b.IIiii,RR from TAB_Mws2019 as a left join TAB_StationInfo as b on a.IIiii=b.IIiii where (b.IIiii in (select IIiii from TAB_StationInfo where(Province = '浙江') and tTime between '2019-08-09 23:01' and '2019-08-10 06:01'))\"\n",
    "cursor.execute(sql) \n",
    "#select IIiii ,MAX(fFy*1000+dFy) AS Expr1 FROM Tab_Aws WHERE (IIiii IN('58665','58559','58568','58652')) AND (tTime BETWEEN '2020-7-14 2:00:01' AND '2020-7-14 05:00:00') GROUP BY IIiii\n",
    "#sql2 = \"GO\"\n",
    "#cursor.execute(sql2)\n",
    "row = cursor.fetchall()\n",
    "print(pd.DataFrame(list(row)).shape)\n",
    "\n",
    "cursor.close()  # 关闭游标\n",
    "conn.close()  # 关闭连接\n",
    "clm=[\"Height\",\"lat\",\"lon\",\"IIiii\",\"RR\"]\n",
    "df = pd.DataFrame(row,columns=clm)\n",
    "print(df)\n",
    "df.to_csv('RR_region_height.csv')\n",
    "# grouped = df.groupby(df['IIiii'])\n",
    "\n",
    "# data = grouped.mean()\n",
    "# data\n",
    "# data.to_csv('RR_region_height.csv')"
   ]
  },
  {
   "cell_type": "code",
   "execution_count": null,
   "metadata": {},
   "outputs": [],
   "source": [
    "import pymssql \n",
    "import pandas as pd\n",
    "server = \"172.21.158.201\"    # 连接服务器地址\n",
    "user = \"down\"# 连接帐号\n",
    "password = \"downx\"# 连接密码\n",
    "conn = pymssql.connect(server, user, password, \"ZJSZDZDB\")  #获取连接\n",
    "\n",
    "cursor = conn.cursor() # 获取光标\n",
    "\n",
    "cursor.execute('USE ZJSZDZDB' )\n",
    "\n",
    "sql  = \"select b.Height,lat,b.lon,b.IIiii,RR from TAB_Aws2019 as a left join TAB_StationInfo as b on a.IIiii=b.IIiii where (b.IIiii in (select IIiii from TAB_StationInfo where(Province = '浙江') and tTime between '2019-08-09 23:01' and '2019-08-10 06:01'))\"\n",
    "cursor.execute(sql) \n",
    "#select IIiii ,MAX(fFy*1000+dFy) AS Expr1 FROM Tab_Aws WHERE (IIiii IN('58665','58559','58568','58652')) AND (tTime BETWEEN '2020-7-14 2:00:01' AND '2020-7-14 05:00:00') GROUP BY IIiii\n",
    "#sql2 = \"GO\"\n",
    "#cursor.execute(sql2)\n",
    "row = cursor.fetchall()\n",
    "print(pd.DataFrame(list(row)).shape)\n",
    "\n",
    "cursor.close()  # 关闭游标\n",
    "conn.close()  # 关闭连接\n",
    "clm=[\"Height\",\"lat\",\"lon\",\"IIiii\",\"RR\"]\n",
    "df = pd.DataFrame(row,columns=clm)\n",
    "print(df)\n",
    "df.to_csv('RR_height.csv')"
   ]
  },
  {
   "cell_type": "markdown",
   "metadata": {},
   "source": [
    "# 自动站数据整合"
   ]
  },
  {
   "cell_type": "code",
   "execution_count": null,
   "metadata": {},
   "outputs": [],
   "source": []
  },
  {
   "cell_type": "code",
   "execution_count": 62,
   "metadata": {},
   "outputs": [
    {
     "name": "stdout",
     "output_type": "stream",
     "text": [
      "(2426, 4)\n"
     ]
    }
   ],
   "source": [
    "# 台州地区数据\n",
    "import pymssql \n",
    "import pandas as pd\n",
    "server = \"172.21.158.201\"    # 连接服务器地址\n",
    "user = \"down\"# 连接帐号\n",
    "password = \"downx\"# 连接密码\n",
    "conn = pymssql.connect(server, user, password, \"ZJSZDZDB\")  #获取连接\n",
    "\n",
    "cursor = conn.cursor() # 获取光标\n",
    "\n",
    "cursor.execute('USE ZJSZDZDB' )\n",
    "\n",
    "sql  = \"select lat,b.lon,b.IIiii,RR from TAB_Mws2019 as a left join TAB_StationInfo as b on a.IIiii=b.IIiii where (b.IIiii in (select IIiii from TAB_StationInfo where(City = '台州') and tTime between '2019-08-09 23:00' and '2019-08-10 06:00'))\"\n",
    "cursor.execute(sql) \n",
    "#select IIiii ,MAX(fFy*1000+dFy) AS Expr1 FROM Tab_Aws WHERE (IIiii IN('58665','58559','58568','58652')) AND (tTime BETWEEN '2020-7-14 2:00:01' AND '2020-7-14 05:00:00') GROUP BY IIiii\n",
    "#sql2 = \"GO\"\n",
    "#cursor.execute(sql2)\n",
    "row = cursor.fetchall()\n",
    "print(pd.DataFrame(list(row)).shape)\n",
    "\n",
    "cursor.close()  # 关闭游标\n",
    "conn.close()  # 关闭连接\n",
    "clm=[\"lat\",\"lon\",\"IIiii\",\"RR\"]\n",
    "df = pd.DataFrame(row,columns=clm)\n",
    "grouped = df.groupby(df['IIiii'])\n",
    "\n",
    "data = grouped.mean()\n",
    "data.to_csv('RR_region_taizhou.csv')"
   ]
  },
  {
   "cell_type": "markdown",
   "metadata": {},
   "source": [
    "# ncl "
   ]
  },
  {
   "cell_type": "code",
   "execution_count": null,
   "metadata": {},
   "outputs": [],
   "source": [
    "/home/liyuan3970/Typhoon_LMQ/data/ncl/RR_region_scater.ncl"
   ]
  }
 ],
 "metadata": {
  "kernelspec": {
   "display_name": "Python 3",
   "language": "python",
   "name": "python3"
  },
  "language_info": {
   "codemirror_mode": {
    "name": "ipython",
    "version": 3
   },
   "file_extension": ".py",
   "mimetype": "text/x-python",
   "name": "python",
   "nbconvert_exporter": "python",
   "pygments_lexer": "ipython3",
   "version": "3.7.6"
  }
 },
 "nbformat": 4,
 "nbformat_minor": 4
}
