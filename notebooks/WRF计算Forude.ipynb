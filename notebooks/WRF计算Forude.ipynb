{
 "cells": [
  {
   "cell_type": "code",
   "execution_count": null,
   "metadata": {},
   "outputs": [],
   "source": [
    "! "
   ]
  },
  {
   "cell_type": "code",
   "execution_count": 1,
   "metadata": {},
   "outputs": [
    {
     "name": "stderr",
     "output_type": "stream",
     "text": [
      "In /home/liyuan3970/anaconda3/lib/python3.7/site-packages/matplotlib/mpl-data/stylelib/_classic_test.mplstyle: \n",
      "The savefig.frameon rcparam was deprecated in Matplotlib 3.1 and will be removed in 3.3.\n",
      "In /home/liyuan3970/anaconda3/lib/python3.7/site-packages/matplotlib/mpl-data/stylelib/_classic_test.mplstyle: \n",
      "The verbose.level rcparam was deprecated in Matplotlib 3.1 and will be removed in 3.3.\n",
      "In /home/liyuan3970/anaconda3/lib/python3.7/site-packages/matplotlib/mpl-data/stylelib/_classic_test.mplstyle: \n",
      "The verbose.fileo rcparam was deprecated in Matplotlib 3.1 and will be removed in 3.3.\n"
     ]
    }
   ],
   "source": [
    "%matplotlib inline\n",
    "from netCDF4 import Dataset\n",
    "import matplotlib.pyplot as plt\n",
    "from matplotlib.cm import get_cmap\n",
    "import cartopy.crs as crs\n",
    "from cartopy.feature import NaturalEarthFeature\n",
    "\n",
    "from wrf import (to_np, getvar, smooth2d, get_cartopy, cartopy_xlim,\n",
    "                 cartopy_ylim, latlon_coords)"
   ]
  },
  {
   "cell_type": "code",
   "execution_count": 4,
   "metadata": {},
   "outputs": [
    {
     "name": "stdout",
     "output_type": "stream",
     "text": [
      "/bin/sh: 1: ncl: not found\n"
     ]
    }
   ],
   "source": [
    " /home/liyuan3970/Typhoon_LMQ/data/ncl/Froud/demo.ncl\n",
    "\n",
    "\n"
   ]
  },
  {
   "cell_type": "markdown",
   "metadata": {},
   "source": [
    "# 计算Froud数"
   ]
  },
  {
   "cell_type": "code",
   "execution_count": 8,
   "metadata": {},
   "outputs": [
    {
     "name": "stdout",
     "output_type": "stream",
     "text": [
      "<xarray.DataArray 'va_cross' ()>\n",
      "array(-18.28051567)\n",
      "Coordinates:\n",
      "    XTIME    float32 850.0\n",
      "    Time     datetime64[ns] 2019-08-09T20:10:00\n",
      "    xy_loc   object CoordPair(x=84.0, y=61.0, lat=28.801036834716797, lon=120.909423828125)\n"
     ]
    }
   ],
   "source": [
    "import numpy as np\n",
    "import matplotlib.pyplot as plt\n",
    "%matplotlib inline\n",
    "from matplotlib.cm import get_cmap\n",
    "import cartopy.crs as crs\n",
    "from cartopy.feature import NaturalEarthFeature\n",
    "from netCDF4 import Dataset\n",
    "\n",
    "from wrf import to_np, getvar, CoordPair, vertcross\n",
    "import math\n",
    "\n",
    "# Open the NetCDF file\n",
    "\n",
    "path = \"/home/liyuan3970/Data/demo4_run2/\"\n",
    "\n",
    "filename = path+ \"wrfout_d02_2019-08-09_060000.nc\"\n",
    "ncfile = Dataset(filename)\n",
    "\n",
    "# Extract the model height and wind speed\n",
    "\n",
    "low = 5\n",
    "high = 19\n",
    "\n",
    "z = getvar(ncfile, \"z\")\n",
    "#wspd =  getvar(ncfile, \"uvmet_wspd_wdir\",timeidx=60, units=\"kt\")[0,:]\n",
    "eth =  getvar(ncfile, \"eth\",timeidx=85)#[0:,:,:]\n",
    "\n",
    "ua =  getvar(ncfile, \"ua\",timeidx=85)#[0:,:,:]\n",
    "va =  getvar(ncfile, \"va\",timeidx=85)#[0:,:,:]\n",
    "\n",
    "\n",
    "\n",
    "# Create the start point and end point for the cross section\n",
    "start_point = CoordPair(lat= 28.4, lon=120.9)\n",
    "end_point = CoordPair(lat=29.5, lon=120.9)\n",
    "\n",
    "# Compute the vertical cross-section interpolation.  Also, include the\n",
    "# lat/lon points along the cross-section.\n",
    "\n",
    "\n",
    "eth_cross = vertcross(eth, z, wrfin=ncfile, start_point=start_point,\n",
    "                       end_point=end_point, latlon=True, meta=True)[:,15]\n",
    "\n",
    "z_cross = vertcross(z, z, wrfin=ncfile, start_point=start_point,\n",
    "                       end_point=end_point, latlon=True, meta=True)[:,15]\n",
    "\n",
    "u_cross = vertcross(ua, z, wrfin=ncfile, start_point=start_point,\n",
    "                       end_point=end_point, latlon=True, meta=True)[:,15]\n",
    "\n",
    "v_cross = vertcross(va, z, wrfin=ncfile, start_point=start_point,\n",
    "                       end_point=end_point, latlon=True, meta=True)[:,15]\n",
    "\n",
    "\n",
    "g = 9.8\n",
    "\n",
    "ave_eth = (eth_cross[high] + eth_cross[low])/2\n",
    "\n",
    "dif_eth = (eth_cross[high] - eth_cross[low])\n",
    "\n",
    "dif_z = (z_cross[high] - z_cross[low]) \n",
    "\n",
    "dif_u =  (u_cross[high] - u_cross[low])*(u_cross[high] - u_cross[low])\n",
    "\n",
    "dif_v = (v_cross[high] - v_cross[low])*(v_cross[high] - v_cross[low])\n",
    "\n",
    "\n",
    "N = -(g/ave_eth)*(dif_eth/dif_z)\n",
    "\n",
    "n = math.sqrt(N)\n",
    "\n",
    "h = 1388\n",
    "\n",
    "u_ave = (u_cross[high] + u_cross[low])/2\n",
    "\n",
    "v_ave = (v_cross[high] + v_cross[low])/2\n",
    "\n",
    "Fr = v_ave/(n*h)\n",
    "\n",
    "#print(Fr)\n",
    "print(v_ave)\n",
    "\n",
    "\n"
   ]
  },
  {
   "cell_type": "markdown",
   "metadata": {},
   "source": [
    "# 计算Ri数"
   ]
  },
  {
   "cell_type": "code",
   "execution_count": 17,
   "metadata": {},
   "outputs": [
    {
     "name": "stdout",
     "output_type": "stream",
     "text": [
      "<xarray.DataArray ()>\n",
      "array(-2.46638765)\n",
      "Coordinates:\n",
      "    xy_loc   object CoordPair(x=84.0, y=61.0, lat=28.801036834716797, lon=120.909423828125)\n",
      "    XTIME    float32 850.0\n",
      "    Time     datetime64[ns] 2019-08-09T20:10:00\n"
     ]
    },
    {
     "data": {
      "text/plain": [
       "[<matplotlib.lines.Line2D at 0x7f9473363890>]"
      ]
     },
     "execution_count": 17,
     "metadata": {},
     "output_type": "execute_result"
    },
    {
     "data": {
      "image/png": "[encoded data removed]",
      "text/plain": [
       "<Figure size 432x288 with 1 Axes>"
      ]
     },
     "metadata": {
      "needs_background": "light"
     },
     "output_type": "display_data"
    }
   ],
   "source": [
    "import numpy as np\n",
    "import matplotlib.pyplot as plt\n",
    "%matplotlib inline\n",
    "from matplotlib.cm import get_cmap\n",
    "import cartopy.crs as crs\n",
    "from cartopy.feature import NaturalEarthFeature\n",
    "from netCDF4 import Dataset\n",
    "\n",
    "from wrf import to_np, getvar, CoordPair, vertcross\n",
    "\n",
    "# Open the NetCDF file\n",
    "\n",
    "path = \"/home/liyuan3970/Data/demo4_run2/\"\n",
    "\n",
    "filename = path+ \"wrfout_d02_2019-08-09_060000.nc\"\n",
    "ncfile = Dataset(filename)\n",
    "\n",
    "# Extract the model height and wind speed\n",
    "\n",
    "low = 5\n",
    "high = 19\n",
    "\n",
    "z = getvar(ncfile, \"z\")\n",
    "#wspd =  getvar(ncfile, \"uvmet_wspd_wdir\",timeidx=60, units=\"kt\")[0,:]\n",
    "eth =  getvar(ncfile, \"eth\",timeidx=85)#[0:,:,:]\n",
    "\n",
    "ua =  getvar(ncfile, \"ua\",timeidx=85)#[0:,:,:]\n",
    "va =  getvar(ncfile, \"va\",timeidx=85)#[0:,:,:]\n",
    "\n",
    "\n",
    "\n",
    "# Create the start point and end point for the cross section\n",
    "start_point = CoordPair(lat= 28.4, lon=120.9)\n",
    "end_point = CoordPair(lat=29.5, lon=120.9)\n",
    "\n",
    "# Compute the vertical cross-section interpolation.  Also, include the\n",
    "# lat/lon points along the cross-section.\n",
    "\n",
    "\n",
    "eth_cross = vertcross(eth, z, wrfin=ncfile, start_point=start_point,\n",
    "                       end_point=end_point, latlon=True, meta=True)[:,15]\n",
    "\n",
    "z_cross = vertcross(z, z, wrfin=ncfile, start_point=start_point,\n",
    "                       end_point=end_point, latlon=True, meta=True)[:,15]\n",
    "\n",
    "u_cross = vertcross(ua, z, wrfin=ncfile, start_point=start_point,\n",
    "                       end_point=end_point, latlon=True, meta=True)[:,15]\n",
    "\n",
    "v_cross = vertcross(va, z, wrfin=ncfile, start_point=start_point,\n",
    "                       end_point=end_point, latlon=True, meta=True)[:,15]\n",
    "\n",
    "\n",
    "g = 9.8\n",
    "\n",
    "ave_eth = (eth_cross[high] + eth_cross[low])/2\n",
    "\n",
    "dif_eth = (eth_cross[high] - eth_cross[low])\n",
    "\n",
    "dif_z = (z_cross[high] - z_cross[low]) \n",
    "\n",
    "dif_u =  (u_cross[high] - u_cross[low])*(u_cross[high] - u_cross[low])\n",
    "\n",
    "dif_v = (v_cross[high] - v_cross[low])*(v_cross[high] - v_cross[low])\n",
    "\n",
    "Ri = (g/ave_eth)*dif_eth*dif_z/(dif_u + dif_v)\n",
    "print(Ri)\n",
    "\n",
    "#print(eth_cross[:,10])\n",
    "\n",
    "# plt.plot(z_cross,eth_cross)\n",
    "\n",
    "plt.plot(eth_cross,z_cross)\n"
   ]
  },
  {
   "cell_type": "markdown",
   "metadata": {},
   "source": [
    "# 计算相对湿度"
   ]
  },
  {
   "cell_type": "code",
   "execution_count": 10,
   "metadata": {},
   "outputs": [
    {
     "name": "stdout",
     "output_type": "stream",
     "text": [
      "<xarray.DataArray ()>\n",
      "array(-2.46638765)\n",
      "Coordinates:\n",
      "    xy_loc   object CoordPair(x=84.0, y=61.0, lat=28.801036834716797, lon=120.909423828125)\n",
      "    XTIME    float32 850.0\n",
      "    Time     datetime64[ns] 2019-08-09T20:10:00\n"
     ]
    },
    {
     "data": {
      "text/plain": [
       "[<matplotlib.lines.Line2D at 0x7f1b01d055d0>]"
      ]
     },
     "execution_count": 10,
     "metadata": {},
     "output_type": "execute_result"
    },
    {
     "data": {
      "image/png": "[encoded data removed]",
      "text/plain": [
       "<Figure size 432x288 with 1 Axes>"
      ]
     },
     "metadata": {
      "needs_background": "light"
     },
     "output_type": "display_data"
    }
   ],
   "source": [
    "import numpy as np\n",
    "import matplotlib.pyplot as plt\n",
    "%matplotlib inline\n",
    "from matplotlib.cm import get_cmap\n",
    "import cartopy.crs as crs\n",
    "from cartopy.feature import NaturalEarthFeature\n",
    "from netCDF4 import Dataset\n",
    "\n",
    "from wrf import to_np, getvar, CoordPair, vertcross\n",
    "\n",
    "# Open the NetCDF file\n",
    "\n",
    "path = \"/home/liyuan3970/Data/demo4_run2/\"\n",
    "\n",
    "filename = path+ \"wrfout_d02_2019-08-09_060000.nc\"\n",
    "ncfile = Dataset(filename)\n",
    "\n",
    "# Extract the model height and wind speed\n",
    "\n",
    "low = 5\n",
    "high = 19\n",
    "\n",
    "z = getvar(ncfile, \"z\")\n",
    "#wspd =  getvar(ncfile, \"uvmet_wspd_wdir\",timeidx=60, units=\"kt\")[0,:]\n",
    "eth =  getvar(ncfile, \"eth\",timeidx=85)#[0:,:,:]\n",
    "rh =  getvar(ncfile, \"rh\",timeidx=85)\n",
    "\n",
    "ua =  getvar(ncfile, \"ua\",timeidx=85)#[0:,:,:]\n",
    "va =  getvar(ncfile, \"va\",timeidx=85)#[0:,:,:]\n",
    "\n",
    "\n",
    "\n",
    "# Create the start point and end point for the cross section\n",
    "start_point = CoordPair(lat= 28.4, lon=120.9)\n",
    "end_point = CoordPair(lat=29.5, lon=120.9)\n",
    "\n",
    "# Compute the vertical cross-section interpolation.  Also, include the\n",
    "# lat/lon points along the cross-section.\n",
    "\n",
    "\n",
    "eth_cross = vertcross(eth, z, wrfin=ncfile, start_point=start_point,\n",
    "                       end_point=end_point, latlon=True, meta=True)[:,15]\n",
    "\n",
    "z_cross = vertcross(z, z, wrfin=ncfile, start_point=start_point,\n",
    "                       end_point=end_point, latlon=True, meta=True)[:,15]\n",
    "\n",
    "u_cross = vertcross(ua, z, wrfin=ncfile, start_point=start_point,\n",
    "                       end_point=end_point, latlon=True, meta=True)[:,15]\n",
    "\n",
    "v_cross = vertcross(va, z, wrfin=ncfile, start_point=start_point,\n",
    "                       end_point=end_point, latlon=True, meta=True)[:,15]\n",
    "\n",
    "rh_cross = vertcross(rh, z, wrfin=ncfile, start_point=start_point,\n",
    "                       end_point=end_point, latlon=True, meta=True)[:,15]\n",
    "\n",
    "g = 9.8\n",
    "\n",
    "ave_eth = (eth_cross[high] + eth_cross[low])/2\n",
    "\n",
    "dif_eth = (eth_cross[high] - eth_cross[low])\n",
    "\n",
    "dif_z = (z_cross[high] - z_cross[low]) \n",
    "\n",
    "dif_u =  (u_cross[high] - u_cross[low])*(u_cross[high] - u_cross[low])\n",
    "\n",
    "dif_v = (v_cross[high] - v_cross[low])*(v_cross[high] - v_cross[low])\n",
    "\n",
    "Ri = (g/ave_eth)*dif_eth*dif_z/(dif_u + dif_v)\n",
    "print(Ri)\n",
    "\n",
    "#print(eth_cross[:,10])\n",
    "\n",
    "# plt.plot(z_cross,eth_cross)\n",
    "\n",
    "plt.plot(rh_cross,z_cross)\n"
   ]
  },
  {
   "cell_type": "markdown",
   "metadata": {},
   "source": [
    "# 图层叠加"
   ]
  },
  {
   "cell_type": "code",
   "execution_count": 18,
   "metadata": {},
   "outputs": [
    {
     "data": {
      "text/plain": [
       "[<matplotlib.lines.Line2D at 0x7f1b01e21e10>]"
      ]
     },
     "execution_count": 18,
     "metadata": {},
     "output_type": "execute_result"
    },
    {
     "data": {
      "image/png": "[encoded data removed]",
      "text/plain": [
       "<Figure size 1440x1080 with 2 Axes>"
      ]
     },
     "metadata": {
      "needs_background": "light"
     },
     "output_type": "display_data"
    }
   ],
   "source": [
    "import numpy as np\n",
    "import matplotlib.pyplot as plt\n",
    "%matplotlib inline\n",
    "from matplotlib.cm import get_cmap\n",
    "import cartopy.crs as crs\n",
    "from cartopy.feature import NaturalEarthFeature\n",
    "from netCDF4 import Dataset\n",
    "\n",
    "from wrf import to_np, getvar, CoordPair, vertcross\n",
    "\n",
    "# Open the NetCDF file\n",
    "\n",
    "path = \"/home/liyuan3970/Data/demo4_run2/\"\n",
    "\n",
    "filename = path+ \"wrfout_d02_2019-08-09_060000.nc\"\n",
    "ncfile = Dataset(filename)\n",
    "\n",
    "# Extract the model height and wind speed\n",
    "\n",
    "low = 5\n",
    "high = 19\n",
    "\n",
    "z = getvar(ncfile, \"z\")\n",
    "#wspd =  getvar(ncfile, \"uvmet_wspd_wdir\",timeidx=60, units=\"kt\")[0,:]\n",
    "eth =  getvar(ncfile, \"eth\",timeidx=85)#[0:,:,:]\n",
    "rh =  getvar(ncfile, \"rh\",timeidx=85)\n",
    "\n",
    "ua =  getvar(ncfile, \"ua\",timeidx=85)#[0:,:,:]\n",
    "va =  getvar(ncfile, \"va\",timeidx=85)#[0:,:,:]\n",
    "\n",
    "\n",
    "\n",
    "# Create the start point and end point for the cross section\n",
    "start_point = CoordPair(lat= 28.4, lon=120.9)\n",
    "end_point = CoordPair(lat=29.5, lon=120.9)\n",
    "\n",
    "# Compute the vertical cross-section interpolation.  Also, include the\n",
    "# lat/lon points along the cross-section.\n",
    "\n",
    "\n",
    "eth_cross = vertcross(eth, z, wrfin=ncfile, start_point=start_point,\n",
    "                       end_point=end_point, latlon=True, meta=True)[:,15]\n",
    "\n",
    "z_cross = vertcross(z, z, wrfin=ncfile, start_point=start_point,\n",
    "                       end_point=end_point, latlon=True, meta=True)[:,15]\n",
    "\n",
    "u_cross = vertcross(ua, z, wrfin=ncfile, start_point=start_point,\n",
    "                       end_point=end_point, latlon=True, meta=True)[:,15]\n",
    "\n",
    "v_cross = vertcross(va, z, wrfin=ncfile, start_point=start_point,\n",
    "                       end_point=end_point, latlon=True, meta=True)[:,15]\n",
    "\n",
    "rh_cross = vertcross(rh, z, wrfin=ncfile, start_point=start_point,\n",
    "                       end_point=end_point, latlon=True, meta=True)[:,15]\n",
    "\n",
    "g = 9.8\n",
    "\n",
    "ave_eth = (eth_cross[high] + eth_cross[low])/2\n",
    "\n",
    "dif_eth = (eth_cross[high] - eth_cross[low])\n",
    "\n",
    "dif_z = (z_cross[high] - z_cross[low]) \n",
    "\n",
    "dif_u =  (u_cross[high] - u_cross[low])*(u_cross[high] - u_cross[low])\n",
    "\n",
    "dif_v = (v_cross[high] - v_cross[low])*(v_cross[high] - v_cross[low])\n",
    "\n",
    "Ri = (g/ave_eth)*dif_eth*dif_z/(dif_u + dif_v)\n",
    "\n",
    "\n",
    "\n",
    "fig = plt.figure(figsize=(20, 15))\n",
    "ax1 = fig.add_subplot(111)\n",
    "#plt.ylim(0,40)\n",
    "#ax1.legend(['eth'],fontsize=20)\n",
    "plt.xticks(size = 25)\n",
    "plt.yticks(size = 20)\n",
    "plt.plot(z_cross,eth_cross,linewidth=10,color = 'blue')\n",
    "\n",
    "\n",
    "ax2 = ax1.twinx()\n",
    "#ax2.legend(['rh'],fontsize=20)\n",
    "plt.yticks(size = 20)\n",
    "plt.plot(z_cross,rh_cross,linewidth=10,color = 'red')\n",
    "\n",
    "\n",
    "\n"
   ]
  }
 ],
 "metadata": {
  "kernelspec": {
   "display_name": "Python 3",
   "language": "python",
   "name": "python3"
  },
  "language_info": {
   "codemirror_mode": {
    "name": "ipython",
    "version": 3
   },
   "file_extension": ".py",
   "mimetype": "text/x-python",
   "name": "python",
   "nbconvert_exporter": "python",
   "pygments_lexer": "ipython3",
   "version": "3.7.6"
  }
 },
 "nbformat": 4,
 "nbformat_minor": 4
}
