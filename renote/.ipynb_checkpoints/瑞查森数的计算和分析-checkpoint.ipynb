{
 "cells": [
  {
   "cell_type": "code",
   "execution_count": 8,
   "metadata": {},
   "outputs": [],
   "source": [
    "import pandas"
   ]
  },
  {
   "cell_type": "code",
   "execution_count": null,
   "metadata": {},
   "outputs": [],
   "source": [
    "gs文件如下：\n",
    "'reinit'\n",
    "' open d:/arw/testd01.ctl '\n",
    "'set mpdset cnriver'\n",
    "'set grid off'\n",
    "'set lon 102 114 '\n",
    "'set lat 31 41 '\n",
    "'set t 1 '\n",
    "\n",
    "' set grads off '\n",
    "'set lev 850 500'\n",
    "'define thse=theta*exp(2.5e6*QVAPOR/1004/tk) '\n",
    "'define rou=pressure*1.e2/(9.8*height*1.e3)'\n",
    "\n",
    "'set lev 850'\n",
    "'define ro=(rou(lev=850)+rou(lev=500))/2 '\n",
    "'define dth=thse(lev=850)-thse(lev=500) '\n",
    "'define the=(thse(lev=850)+thse(lev=500))/2 '\n",
    "'define du=u(lev=850)-u(lev=500)'\n",
    "'define dv=v(lev=850)-v(lev=500)'\n",
    "'define Ri=-dth*3.5e5/(the*(du*du+dv*dv)*ro)'\n",
    "'d Ri '\n",
    "\n",
    "gs中第二段资料中的变量为\n",
    "theta         19  0  Potential Temperature (K)\n",
    "QVAPOR        19  0  Water vapor mixing ratio (kg kg-1)\n",
    "tk            19  0  Temperature (K)\n",
    "height        19  0  Model height (km)\n",
    "pressure      19  0  Model pressure (hPa)\n",
    "U             19  0  x-wind component (m s-1)\n",
    "V             19  0  y-wind component (m s-1)"
   ]
  },
  {
   "cell_type": "code",
   "execution_count": 32,
   "metadata": {},
   "outputs": [
    {
     "ename": "TypeError",
     "evalue": "Only length-1 arrays can be converted to Python scalars",
     "output_type": "error",
     "traceback": [
      "\u001b[0;31m---------------------------------------------------------------------------\u001b[0m",
      "\u001b[0;31mTypeError\u001b[0m                                 Traceback (most recent call last)",
      "\u001b[0;32m<ipython-input-32-7de492ff4de0>\u001b[0m in \u001b[0;36m<module>\u001b[0;34m\u001b[0m\n\u001b[1;32m     36\u001b[0m \u001b[0;34m\u001b[0m\u001b[0m\n\u001b[1;32m     37\u001b[0m \u001b[0;34m\u001b[0m\u001b[0m\n\u001b[0;32m---> 38\u001b[0;31m \u001b[0ma\u001b[0m\u001b[0;34m=\u001b[0m \u001b[0mmath\u001b[0m\u001b[0;34m.\u001b[0m\u001b[0mexp\u001b[0m\u001b[0;34m(\u001b[0m\u001b[0mQVAPOR\u001b[0m\u001b[0;34m)\u001b[0m\u001b[0;34m\u001b[0m\u001b[0;34m\u001b[0m\u001b[0m\n\u001b[0m",
      "\u001b[0;32m/opt/conda/lib/python3.7/site-packages/numpy/ma/core.py\u001b[0m in \u001b[0;36m__float__\u001b[0;34m(self)\u001b[0m\n\u001b[1;32m   4326\u001b[0m         \"\"\"\n\u001b[1;32m   4327\u001b[0m         \u001b[0;32mif\u001b[0m \u001b[0mself\u001b[0m\u001b[0;34m.\u001b[0m\u001b[0msize\u001b[0m \u001b[0;34m>\u001b[0m \u001b[0;36m1\u001b[0m\u001b[0;34m:\u001b[0m\u001b[0;34m\u001b[0m\u001b[0;34m\u001b[0m\u001b[0m\n\u001b[0;32m-> 4328\u001b[0;31m             raise TypeError(\"Only length-1 arrays can be converted \"\n\u001b[0m\u001b[1;32m   4329\u001b[0m                             \"to Python scalars\")\n\u001b[1;32m   4330\u001b[0m         \u001b[0;32melif\u001b[0m \u001b[0mself\u001b[0m\u001b[0;34m.\u001b[0m\u001b[0m_mask\u001b[0m\u001b[0;34m:\u001b[0m\u001b[0;34m\u001b[0m\u001b[0;34m\u001b[0m\u001b[0m\n",
      "\u001b[0;31mTypeError\u001b[0m: Only length-1 arrays can be converted to Python scalars"
     ]
    }
   ],
   "source": [
    "import numpy as np\n",
    "import matplotlib.pyplot as plt\n",
    "%matplotlib inline\n",
    "from matplotlib.cm import get_cmap\n",
    "import cartopy.crs as crs\n",
    "from cartopy.feature import NaturalEarthFeature\n",
    "from netCDF4 import Dataset\n",
    "\n",
    "from wrf import to_np, getvar, CoordPair, vertcross\n",
    "import math\n",
    "\n",
    "\n",
    "\n",
    "# Open the NetCDF file\n",
    "\n",
    "# theta         19  0  Potential Temperature (K)\n",
    "# QVAPOR        19  0  Water vapor mixing ratio (kg kg-1)\n",
    "# tk            19  0  Temperature (K)\n",
    "# height        19  0  Model height (km)\n",
    "# pressure      19  0  Model pressure (hPa)\n",
    "# U             19  0  x-wind component (m s-1)\n",
    "# V             19  0  y-wind component (m s-1)\n",
    "\n",
    "path = \"/home/liyuan3970/Data/demo4_run2/\"\n",
    "\n",
    "filename = path+ \"wrfout_d02_2019-08-09_060000.nc\"\n",
    "ncfile = Dataset(filename)\n",
    "\n",
    "theta =  getvar(ncfile, \"theta_e\",timeidx=60, units=\"K\")\n",
    "QVAPOR = getvar(ncfile, \"QVAPOR\",timeidx=60)\n",
    "tk =  getvar(ncfile, \"tk\",timeidx=60)\n",
    "height = getvar(ncfile, \"height\",timeidx=60, units=\"km\")\n",
    "pressure = getvar(ncfile, \"pressure\",timeidx=60)\n",
    "U = getvar(ncfile, \"ua\",timeidx=60, units=\"m s-1\")\n",
    "v = getvar(ncfile, \"va\",timeidx=60, units=\"m s-1\")\n",
    "\n",
    "\n",
    "print(type(QVAPOR))\n"
   ]
  }
 ],
 "metadata": {
  "kernelspec": {
   "display_name": "Python 3",
   "language": "python",
   "name": "python3"
  },
  "language_info": {
   "codemirror_mode": {
    "name": "ipython",
    "version": 3
   },
   "file_extension": ".py",
   "mimetype": "text/x-python",
   "name": "python",
   "nbconvert_exporter": "python",
   "pygments_lexer": "ipython3",
   "version": "3.7.6"
  }
 },
 "nbformat": 4,
 "nbformat_minor": 4
}
