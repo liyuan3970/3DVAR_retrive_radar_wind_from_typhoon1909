{
 "cells": [
  {
   "cell_type": "code",
   "execution_count": 8,
   "metadata": {},
   "outputs": [],
   "source": [
    "import pandas"
   ]
  },
  {
   "cell_type": "code",
   "execution_count": null,
   "metadata": {},
   "outputs": [],
   "source": [
    "gs文件如下：\n",
    "'reinit'\n",
    "' open d:/arw/testd01.ctl '\n",
    "'set mpdset cnriver'\n",
    "'set grid off'\n",
    "'set lon 102 114 '\n",
    "'set lat 31 41 '\n",
    "'set t 1 '\n",
    "\n",
    "' set grads off '\n",
    "'set lev 850 500'\n",
    "'define thse=theta*exp(2.5e6*QVAPOR/1004/tk) '\n",
    "'define rou=pressure*1.e2/(9.8*height*1.e3)'\n",
    "\n",
    "'set lev 850'\n",
    "'define ro=(rou(lev=850)+rou(lev=500))/2 '\n",
    "'define dth=thse(lev=850)-thse(lev=500) '\n",
    "'define the=(thse(lev=850)+thse(lev=500))/2 '\n",
    "'define du=u(lev=850)-u(lev=500)'\n",
    "'define dv=v(lev=850)-v(lev=500)'\n",
    "'define Ri=-dth*3.5e5/(the*(du*du+dv*dv)*ro)'\n",
    "'d Ri '\n",
    "\n",
    "gs中第二段资料中的变量为\n",
    "theta         19  0  Potential Temperature (K)\n",
    "QVAPOR        19  0  Water vapor mixing ratio (kg kg-1)\n",
    "tk            19  0  Temperature (K)\n",
    "height        19  0  Model height (km)\n",
    "pressure      19  0  Model pressure (hPa)\n",
    "U             19  0  x-wind component (m s-1)\n",
    "V             19  0  y-wind component (m s-1)"
   ]
  },
  {
   "cell_type": "code",
   "execution_count": 1,
   "metadata": {},
   "outputs": [
    {
     "ename": "ImportError",
     "evalue": "/opt/conda/lib/python3.7/site-packages/wrf/_wrffortran.cpython-37m-x86_64-linux-gnu.so: undefined symbol: GOMP_loop_runtime_next",
     "output_type": "error",
     "traceback": [
      "\u001b[0;31m---------------------------------------------------------------------------\u001b[0m",
      "\u001b[0;31mImportError\u001b[0m                               Traceback (most recent call last)",
      "\u001b[0;32m/tmp/ipykernel_12303/2744588283.py\u001b[0m in \u001b[0;36m<module>\u001b[0;34m\u001b[0m\n\u001b[1;32m      3\u001b[0m \u001b[0;34m\u001b[0m\u001b[0m\n\u001b[1;32m      4\u001b[0m \u001b[0;32mfrom\u001b[0m \u001b[0mnetCDF4\u001b[0m \u001b[0;32mimport\u001b[0m \u001b[0mDataset\u001b[0m\u001b[0;34m\u001b[0m\u001b[0;34m\u001b[0m\u001b[0m\n\u001b[0;32m----> 5\u001b[0;31m \u001b[0;32mfrom\u001b[0m \u001b[0mwrf\u001b[0m \u001b[0;32mimport\u001b[0m \u001b[0mgetvar\u001b[0m\u001b[0;34m,\u001b[0m \u001b[0mdisable_xarray\u001b[0m\u001b[0;34m\u001b[0m\u001b[0;34m\u001b[0m\u001b[0m\n\u001b[0m\u001b[1;32m      6\u001b[0m \u001b[0;34m\u001b[0m\u001b[0m\n\u001b[1;32m      7\u001b[0m \u001b[0;34m\u001b[0m\u001b[0m\n",
      "\u001b[0;32m/opt/conda/lib/python3.7/site-packages/wrf/__init__.py\u001b[0m in \u001b[0;36m<module>\u001b[0;34m\u001b[0m\n\u001b[1;32m      4\u001b[0m \u001b[0;34m\u001b[0m\u001b[0m\n\u001b[1;32m      5\u001b[0m \u001b[0;32mtry\u001b[0m\u001b[0;34m:\u001b[0m\u001b[0;34m\u001b[0m\u001b[0;34m\u001b[0m\u001b[0m\n\u001b[0;32m----> 6\u001b[0;31m     \u001b[0;32mfrom\u001b[0m \u001b[0;34m.\u001b[0m \u001b[0;32mimport\u001b[0m \u001b[0mapi\u001b[0m\u001b[0;34m\u001b[0m\u001b[0;34m\u001b[0m\u001b[0m\n\u001b[0m\u001b[1;32m      7\u001b[0m     \u001b[0;32mfrom\u001b[0m \u001b[0;34m.\u001b[0m\u001b[0mapi\u001b[0m \u001b[0;32mimport\u001b[0m \u001b[0;34m*\u001b[0m\u001b[0;34m\u001b[0m\u001b[0;34m\u001b[0m\u001b[0m\n\u001b[1;32m      8\u001b[0m \u001b[0;32mexcept\u001b[0m \u001b[0mImportError\u001b[0m\u001b[0;34m:\u001b[0m\u001b[0;34m\u001b[0m\u001b[0;34m\u001b[0m\u001b[0m\n",
      "\u001b[0;32m/opt/conda/lib/python3.7/site-packages/wrf/api.py\u001b[0m in \u001b[0;36m<module>\u001b[0;34m\u001b[0m\n\u001b[0;32m----> 1\u001b[0;31m from .config import (xarray_enabled, disable_xarray, enable_xarray,\n\u001b[0m\u001b[1;32m      2\u001b[0m                      \u001b[0mcartopy_enabled\u001b[0m\u001b[0;34m,\u001b[0m \u001b[0mdisable_cartopy\u001b[0m\u001b[0;34m,\u001b[0m \u001b[0menable_cartopy\u001b[0m\u001b[0;34m,\u001b[0m\u001b[0;34m\u001b[0m\u001b[0;34m\u001b[0m\u001b[0m\n\u001b[1;32m      3\u001b[0m                      \u001b[0mbasemap_enabled\u001b[0m\u001b[0;34m,\u001b[0m \u001b[0mdisable_basemap\u001b[0m\u001b[0;34m,\u001b[0m \u001b[0menable_basemap\u001b[0m\u001b[0;34m,\u001b[0m\u001b[0;34m\u001b[0m\u001b[0;34m\u001b[0m\u001b[0m\n\u001b[1;32m      4\u001b[0m                      \u001b[0mpyngl_enabled\u001b[0m\u001b[0;34m,\u001b[0m \u001b[0menable_pyngl\u001b[0m\u001b[0;34m,\u001b[0m \u001b[0mdisable_pyngl\u001b[0m\u001b[0;34m,\u001b[0m\u001b[0;34m\u001b[0m\u001b[0;34m\u001b[0m\u001b[0m\n\u001b[1;32m      5\u001b[0m                      set_cache_size, get_cache_size, omp_enabled)\n",
      "\u001b[0;32m/opt/conda/lib/python3.7/site-packages/wrf/config.py\u001b[0m in \u001b[0;36m<module>\u001b[0;34m\u001b[0m\n\u001b[1;32m      4\u001b[0m \u001b[0;32mimport\u001b[0m \u001b[0mwrapt\u001b[0m\u001b[0;34m\u001b[0m\u001b[0;34m\u001b[0m\u001b[0m\n\u001b[1;32m      5\u001b[0m \u001b[0;34m\u001b[0m\u001b[0m\n\u001b[0;32m----> 6\u001b[0;31m from ._wrffortran import (fomp_enabled, fomp_set_num_threads,\n\u001b[0m\u001b[1;32m      7\u001b[0m                           \u001b[0mfomp_set_schedule\u001b[0m\u001b[0;34m,\u001b[0m \u001b[0mfomp_set_dynamic\u001b[0m\u001b[0;34m,\u001b[0m\u001b[0;34m\u001b[0m\u001b[0;34m\u001b[0m\u001b[0m\n\u001b[1;32m      8\u001b[0m                           omp_constants)\n",
      "\u001b[0;31mImportError\u001b[0m: /opt/conda/lib/python3.7/site-packages/wrf/_wrffortran.cpython-37m-x86_64-linux-gnu.so: undefined symbol: GOMP_loop_runtime_next"
     ]
    }
   ],
   "source": [
    "# import numpy as np\n",
    "from __future__ import print_function\n",
    "\n",
    "from netCDF4 import Dataset\n",
    "from wrf import getvar, disable_xarray\n",
    "\n",
    "\n",
    "\n",
    "# Disable xarray completely\n",
    "\n",
    "\n",
    "\n",
    "\n",
    "# import salem\n",
    "\n",
    "# Open the NetCDF file\n",
    "\n",
    "# theta         19  0  Potential Temperature (K)\n",
    "# QVAPOR        19  0  Water vapor mixing ratio (kg kg-1)\n",
    "# tk            19  0  Temperature (K)\n",
    "# height        19  0  Model height (km)\n",
    "# pressure      19  0  Model pressure (hPa)\n",
    "# U             19  0  x-wind component (m s-1)\n",
    "# V             19  0  y-wind component (m s-1)\n",
    "\n",
    "path = \"/home/liyuan3970/Data/demo4_run2/\"\n",
    "\n",
    "filename = path+ \"wrfout_d02_2019-08-09_060000.nc\"\n",
    "ncfile = Dataset(filename)\n",
    "disable_xarray()\n",
    "# 定义变量\n",
    "theta =  getvar(ncfile, \"theta_e\",timeidx=60, units=\"K\")\n",
    "QVAPOR = getvar(ncfile, \"QVAPOR\",timeidx=60)\n",
    "tk =  getvar(ncfile, \"tk\",timeidx=60)\n",
    "height = getvar(ncfile, \"height\",timeidx=60, units=\"km\")\n",
    "pressure = getvar(ncfile, \"pressure\",timeidx=60)\n",
    "U = getvar(ncfile, \"ua\",timeidx=60, units=\"m s-1\")\n",
    "v = getvar(ncfile, \"va\",timeidx=60, units=\"m s-1\")\n",
    "\n",
    "# 计算\n",
    "thse=theta*np.exp(2.5e6*QVAPOR/1004/tk)\n",
    "rou=pressure*1.e2/(9.8*height*1.e3)\n",
    "\n"
   ]
  }
 ],
 "metadata": {
  "kernelspec": {
   "display_name": "Python 3 (ipykernel)",
   "language": "python",
   "name": "python3"
  },
  "language_info": {
   "codemirror_mode": {
    "name": "ipython",
    "version": 3
   },
   "file_extension": ".py",
   "mimetype": "text/x-python",
   "name": "python",
   "nbconvert_exporter": "python",
   "pygments_lexer": "ipython3",
   "version": "3.7.13"
  }
 },
 "nbformat": 4,
 "nbformat_minor": 4
}
